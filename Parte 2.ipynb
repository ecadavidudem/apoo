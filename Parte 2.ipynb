{
 "cells": [
  {
   "cell_type": "code",
   "execution_count": 1,
   "metadata": {},
   "outputs": [
    {
     "name": "stdout",
     "output_type": "stream",
     "text": [
      "{1, 2, 3, 4, 5}\n"
     ]
    }
   ],
   "source": [
    "num={1,1,2,3,4,5}\n",
    "print(num)"
   ]
  },
  {
   "cell_type": "code",
   "execution_count": 3,
   "metadata": {},
   "outputs": [
    {
     "name": "stdout",
     "output_type": "stream",
     "text": [
      "<class 'set'>\n"
     ]
    }
   ],
   "source": [
    "primos=set([1,3,5,7,9,])\n",
    "print(set)"
   ]
  },
  {
   "cell_type": "code",
   "execution_count": 16,
   "metadata": {},
   "outputs": [
    {
     "ename": "SyntaxError",
     "evalue": "invalid syntax (4170368722.py, line 1)",
     "output_type": "error",
     "traceback": [
      "\u001b[1;36m  Input \u001b[1;32mIn [16]\u001b[1;36m\u001b[0m\n\u001b[1;33m    numbers{(1,2),(3,4),[5,6]}\u001b[0m\n\u001b[1;37m           ^\u001b[0m\n\u001b[1;31mSyntaxError\u001b[0m\u001b[1;31m:\u001b[0m invalid syntax\n"
     ]
    }
   ],
   "source": [
    "numbers{(1,2),(3,4),[5,6]}\n",
    "print(numbers)"
   ]
  },
  {
   "cell_type": "code",
   "execution_count": 11,
   "metadata": {},
   "outputs": [
    {
     "name": "stdout",
     "output_type": "stream",
     "text": [
      "{'company': 'twingo', 'country': 'colombia', 'ranking': 20}\n",
      "twingo\n",
      "colombia\n"
     ]
    }
   ],
   "source": [
    "#Diccionarios#\n",
    "\n",
    "cars={\"company\":\"twingo\",\"country\":\"colombia\",\"ranking\":20}\n",
    "print(cars)\n",
    "\n",
    "print(cars[\"company\"])\n",
    "\n",
    "print(cars[\"country\"])"
   ]
  },
  {
   "cell_type": "code",
   "execution_count": 12,
   "metadata": {},
   "outputs": [
    {
     "name": "stdout",
     "output_type": "stream",
     "text": [
      "{'company': 'twingo', 'country': 'colombia', 'ranking': 20, 'name': 'audi'}\n"
     ]
    }
   ],
   "source": [
    "cars[\"name\"]=\"audi\"\n",
    "print(cars)"
   ]
  },
  {
   "cell_type": "code",
   "execution_count": 13,
   "metadata": {},
   "outputs": [
    {
     "name": "stdout",
     "output_type": "stream",
     "text": [
      "{'company': 'twingo', 'country': 'colombia', 'name': 'audi'}\n"
     ]
    }
   ],
   "source": [
    "del cars[\"ranking\"]\n",
    "print(cars)"
   ]
  },
  {
   "cell_type": "code",
   "execution_count": 15,
   "metadata": {},
   "outputs": [
    {
     "name": "stdout",
     "output_type": "stream",
     "text": [
      "{'company': 'twingo', 'name': 'audi'}\n"
     ]
    }
   ],
   "source": [
    "cars.pop(\"country\")\n",
    "print(cars)"
   ]
  },
  {
   "cell_type": "code",
   "execution_count": 18,
   "metadata": {},
   "outputs": [
    {
     "name": "stdout",
     "output_type": "stream",
     "text": [
      "{'a': 97, 'b': 98, 'c': 90, 'A': 65, 'B': 66, 'C': 67}\n"
     ]
    }
   ],
   "source": [
    "minuscula={'a':97,'b':98,'c':90}\n",
    "mayuscula={'A':65,'B':66,'C':67}\n",
    "mezcla=minuscula.copy()\n",
    "mezcla.update(mayuscula)\n",
    "print(mezcla)"
   ]
  },
  {
   "cell_type": "code",
   "execution_count": 34,
   "metadata": {},
   "outputs": [
    {
     "name": "stdout",
     "output_type": "stream",
     "text": [
      "{40, 12, 14, 50, 20, 22, 30}\n"
     ]
    }
   ],
   "source": [
    "numeros=[1,20,12,50,14,3,9,40,22,25,15,17,30]\n",
    "pares=set()\n",
    "for numero in numeros:\n",
    "    if numero % 2==0:\n",
    "        pares.add(numero)\n",
    "print(pares)\n"
   ]
  },
  {
   "cell_type": "code",
   "execution_count": 31,
   "metadata": {},
   "outputs": [
    {
     "name": "stdout",
     "output_type": "stream",
     "text": [
      "[0, 1, 4, 9, 16, 25, 36, 49, 64, 81]\n"
     ]
    }
   ],
   "source": [
    "s=[x**2 for x in range(10)]\n",
    "print(s)"
   ]
  },
  {
   "cell_type": "code",
   "execution_count": 32,
   "metadata": {},
   "outputs": [
    {
     "name": "stdout",
     "output_type": "stream",
     "text": [
      "[0, 9, 36, 81]\n"
     ]
    }
   ],
   "source": [
    "s=[x for x in s if x % 3==0]\n",
    "print(s)"
   ]
  },
  {
   "cell_type": "code",
   "execution_count": 60,
   "metadata": {},
   "outputs": [
    {
     "name": "stdout",
     "output_type": "stream",
     "text": [
      "0\n",
      "9\n",
      "36\n",
      "81\n"
     ]
    },
    {
     "data": {
      "text/plain": [
       "[None, None, None, None]"
      ]
     },
     "execution_count": 60,
     "metadata": {},
     "output_type": "execute_result"
    }
   ],
   "source": [
    "def to_str_fil(i):\n",
    "    t = str(i).zfill(8)\n",
    "    return t\n",
    "s2=[to_str_fil(x) for x in s]\n",
    "\n",
    "[print (x) for x in s]\n",
    "\n",
    "\n",
    "\n",
    "        \n",
    "    \n",
    "  "
   ]
  }
 ],
 "metadata": {
  "kernelspec": {
   "display_name": "Python 3.10.5 64-bit",
   "language": "python",
   "name": "python3"
  },
  "language_info": {
   "codemirror_mode": {
    "name": "ipython",
    "version": 3
   },
   "file_extension": ".py",
   "mimetype": "text/x-python",
   "name": "python",
   "nbconvert_exporter": "python",
   "pygments_lexer": "ipython3",
   "version": "3.10.5"
  },
  "orig_nbformat": 4,
  "vscode": {
   "interpreter": {
    "hash": "26de051ba29f2982a8de78e945f0abaf191376122a1563185a90213a26c5da77"
   }
  }
 },
 "nbformat": 4,
 "nbformat_minor": 2
}
