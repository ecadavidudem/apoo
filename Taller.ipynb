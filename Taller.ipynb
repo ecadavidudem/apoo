{
  "nbformat": 4,
  "nbformat_minor": 0,
  "metadata": {
    "colab": {
      "name": "Taller.ipynb",
      "provenance": []
    },
    "kernelspec": {
      "name": "python3",
      "display_name": "Python 3"
    },
    "language_info": {
      "name": "python"
    }
  },
  "cells": [
    {
      "cell_type": "code",
      "execution_count": 2,
      "metadata": {
        "colab": {
          "base_uri": "https://localhost:8080/"
        },
        "id": "dxn7mTgfNy16",
        "outputId": "20f1ca3a-9e9a-4bb1-9080-4534d566cd6b"
      },
      "outputs": [
        {
          "output_type": "stream",
          "name": "stdout",
          "text": [
            "['LaravelDjangoFlask']\n",
            "['Python', 'Java', 'C#']\n"
          ]
        }
      ],
      "source": [
        "fe = [\"Laravel\", \"Django\", \"Flask\"]\n",
        "be = [\"Python\", \"Java\", \"C#\"]\n",
        "\n",
        "print (fe)\n",
        "print (be)"
      ]
    },
    {
      "cell_type": "code",
      "source": [
        "print (fe [0:2])"
      ],
      "metadata": {
        "colab": {
          "base_uri": "https://localhost:8080/"
        },
        "id": "30AgFZ1aPe9J",
        "outputId": "25b51b71-b696-48eb-a5b8-45625ba804fc"
      },
      "execution_count": 24,
      "outputs": [
        {
          "output_type": "stream",
          "name": "stdout",
          "text": [
            "['JQuery', 'LaravelDjangoFlask']\n"
          ]
        }
      ]
    },
    {
      "cell_type": "code",
      "source": [
        "fe [1] = (\"JQuery\")\n",
        "print (fe)"
      ],
      "metadata": {
        "colab": {
          "base_uri": "https://localhost:8080/"
        },
        "id": "NKEk-uxMRWiS",
        "outputId": "3444d5fa-97a5-4244-ced4-e4630873192f"
      },
      "execution_count": 21,
      "outputs": [
        {
          "output_type": "stream",
          "name": "stdout",
          "text": [
            "['LaravelDjangoFlask', 'JQuery']\n"
          ]
        }
      ]
    },
    {
      "cell_type": "code",
      "source": [
        "del be [0]\n",
        "print (be)"
      ],
      "metadata": {
        "colab": {
          "base_uri": "https://localhost:8080/"
        },
        "id": "gZtNnnnhQvEp",
        "outputId": "7d992fbd-90b7-42ec-de4f-71d99d26a00a"
      },
      "execution_count": 17,
      "outputs": [
        {
          "output_type": "stream",
          "name": "stdout",
          "text": [
            "[]\n"
          ]
        }
      ]
    },
    {
      "cell_type": "code",
      "source": [
        "be.append (\"Python\")\n",
        "print (be)"
      ],
      "metadata": {
        "colab": {
          "base_uri": "https://localhost:8080/"
        },
        "id": "C6BX0K6oRn9B",
        "outputId": "8036ee59-2308-4994-a2b4-ea9b381d16af"
      },
      "execution_count": 18,
      "outputs": [
        {
          "output_type": "stream",
          "name": "stdout",
          "text": [
            "['Python']\n"
          ]
        }
      ]
    },
    {
      "cell_type": "code",
      "source": [
        "fe.insert (1, \"naviter\")\n",
        "print (fe)"
      ],
      "metadata": {
        "colab": {
          "base_uri": "https://localhost:8080/"
        },
        "id": "3g01eMb7RwyJ",
        "outputId": "db7f366c-8667-4886-a049-1ae427c718bc"
      },
      "execution_count": 26,
      "outputs": [
        {
          "output_type": "stream",
          "name": "stdout",
          "text": [
            "['LaravelDjangoFlask', 'naviter', 'JQuery']\n"
          ]
        }
      ]
    },
    {
      "cell_type": "code",
      "source": [
        "fe.reverse ()\n",
        "print (fe)\n",
        "\n",
        "fe.sort ()\n",
        "print (fe)\n",
        "\n",
        "fe.clear ()\n",
        "print (fe)\n"
      ],
      "metadata": {
        "colab": {
          "base_uri": "https://localhost:8080/"
        },
        "id": "XhHHFxowSDbY",
        "outputId": "13eae76f-cf41-4be2-a32a-f7b58c3fa0ee"
      },
      "execution_count": 30,
      "outputs": [
        {
          "output_type": "stream",
          "name": "stdout",
          "text": [
            "['naviter', 'LaravelDjangoFlask', 'JQuery']\n",
            "['JQuery', 'LaravelDjangoFlask', 'naviter']\n",
            "[]\n"
          ]
        }
      ]
    },
    {
      "cell_type": "code",
      "source": [
        "frutas = (\"manzana\", \"mango\", \"piña\", \"pera\")\n",
        "tupla_1 = 1, 2, 3, \"local\"\n",
        "tupla_2 = (\"numero\", [4, 5, 6], (7, 8, 9))\n",
        "tupla_3 = (\"s\", \"i\", \"m\", \"o\", \"n\")\n",
        "print (frutas)\n",
        "print (tupla_1)\n",
        "print (tupla_2)\n",
        "print (tupla_3)\n",
        "print (frutas [3])\n",
        "print (tupla_1 [0])\n",
        "print (tupla_2 [1])\n",
        "print (tupla_3 [4])"
      ],
      "metadata": {
        "colab": {
          "base_uri": "https://localhost:8080/"
        },
        "id": "UnqPRs2ASlLr",
        "outputId": "dc5aafc8-5485-4ccf-c5fb-a62de558115e"
      },
      "execution_count": 56,
      "outputs": [
        {
          "output_type": "stream",
          "name": "stdout",
          "text": [
            "('manzana', 'mango', 'piña', 'pera')\n",
            "(1, 2, 3, 'local')\n",
            "('numero', [4, 5, 6], (7, 8, 9))\n",
            "('s', 'i', 'm', 'o', 'n')\n",
            "pera\n",
            "1\n",
            "[4, 5, 6]\n",
            "n\n"
          ]
        }
      ]
    },
    {
      "cell_type": "code",
      "source": [
        "print (tupla_2 [1][2])\n",
        "print (tupla_2 [2][0])\n",
        "print (tupla_3 [-5])\n",
        "print (tupla_3 [-1])"
      ],
      "metadata": {
        "colab": {
          "base_uri": "https://localhost:8080/"
        },
        "id": "tOeejs3NT9ly",
        "outputId": "812a5756-b153-4f32-ecfa-40862d6e2763"
      },
      "execution_count": 57,
      "outputs": [
        {
          "output_type": "stream",
          "name": "stdout",
          "text": [
            "6\n",
            "7\n",
            "s\n",
            "n\n"
          ]
        }
      ]
    },
    {
      "cell_type": "code",
      "source": [
        "print (tupla_3 [1:5])\n",
        "print (tupla_3 [-5])\n",
        "print (tupla_3 [-4:])\n",
        "print (tupla_3 [:])"
      ],
      "metadata": {
        "colab": {
          "base_uri": "https://localhost:8080/"
        },
        "id": "XS4lOFS_UoDL",
        "outputId": "c0e234b9-1855-4f63-bf10-0d20bf244461"
      },
      "execution_count": 58,
      "outputs": [
        {
          "output_type": "stream",
          "name": "stdout",
          "text": [
            "('i', 'm', 'o', 'n')\n",
            "s\n",
            "('i', 'm', 'o', 'n')\n",
            "('s', 'i', 'm', 'o', 'n')\n"
          ]
        }
      ]
    },
    {
      "cell_type": "code",
      "source": [
        "tupla_2 [1][0] = \"A\"\n",
        "tupla_2 [1][1] = \"B\"\n",
        "tupla_2 [1][2] = \"C\"\n",
        "print (tupla_2)"
      ],
      "metadata": {
        "colab": {
          "base_uri": "https://localhost:8080/"
        },
        "id": "7-2G36R9VxJ7",
        "outputId": "83ce28bc-253a-4af2-ff2d-41d09c56f989"
      },
      "execution_count": 59,
      "outputs": [
        {
          "output_type": "stream",
          "name": "stdout",
          "text": [
            "('numero', ['A', 'B', 'C'], (7, 8, 9))\n"
          ]
        }
      ]
    },
    {
      "cell_type": "code",
      "source": [
        "tupla_4 = tupla_2 + frutas\n",
        "print (tupla_4)"
      ],
      "metadata": {
        "colab": {
          "base_uri": "https://localhost:8080/"
        },
        "id": "wACqXsIzWFRR",
        "outputId": "c08de48a-6c0a-490f-ff10-1bf2cbab76d8"
      },
      "execution_count": 60,
      "outputs": [
        {
          "output_type": "stream",
          "name": "stdout",
          "text": [
            "('numero', ['A', 'B', 'C'], (7, 8, 9), 'manzana', 'mango', 'piña', 'pera')\n"
          ]
        }
      ]
    },
    {
      "cell_type": "code",
      "source": [
        "del tupla_3 \n",
        "print (tupla_3)"
      ],
      "metadata": {
        "colab": {
          "base_uri": "https://localhost:8080/",
          "height": 183
        },
        "id": "1btP4RjDX_1q",
        "outputId": "17dd3cfb-d2aa-4600-e46c-c292b7a38cdb"
      },
      "execution_count": 61,
      "outputs": [
        {
          "output_type": "error",
          "ename": "NameError",
          "evalue": "ignored",
          "traceback": [
            "\u001b[0;31m---------------------------------------------------------------------------\u001b[0m",
            "\u001b[0;31mNameError\u001b[0m                                 Traceback (most recent call last)",
            "\u001b[0;32m<ipython-input-61-ce7fbd1c027a>\u001b[0m in \u001b[0;36m<module>\u001b[0;34m\u001b[0m\n\u001b[1;32m      1\u001b[0m \u001b[0;32mdel\u001b[0m \u001b[0mtupla_3\u001b[0m\u001b[0;34m\u001b[0m\u001b[0;34m\u001b[0m\u001b[0m\n\u001b[0;32m----> 2\u001b[0;31m \u001b[0mprint\u001b[0m \u001b[0;34m(\u001b[0m\u001b[0mtupla_3\u001b[0m\u001b[0;34m)\u001b[0m\u001b[0;34m\u001b[0m\u001b[0;34m\u001b[0m\u001b[0m\n\u001b[0m",
            "\u001b[0;31mNameError\u001b[0m: name 'tupla_3' is not defined"
          ]
        }
      ]
    },
    {
      "cell_type": "code",
      "source": [
        "frutas = frutas + (\"banano\", \"sandia\")\n",
        "print (frutas.count(\"piña\"))\n",
        "print (frutas.index(\"pera\"))"
      ],
      "metadata": {
        "colab": {
          "base_uri": "https://localhost:8080/"
        },
        "id": "QVse-FjAWy9p",
        "outputId": "08bd2be8-628d-416f-ec9b-ae1c1dc48cd9"
      },
      "execution_count": 49,
      "outputs": [
        {
          "output_type": "stream",
          "name": "stdout",
          "text": [
            "1\n",
            "3\n"
          ]
        }
      ]
    },
    {
      "cell_type": "code",
      "source": [
        "numeros = {11, 12, 13, 14, 15}\n",
        "colores = {\"Amarillo\", \"Azul\", \"Rojo\", \"Verde\", \"Naranja\"}\n",
        "print (numeros)\n",
        "print (colores)"
      ],
      "metadata": {
        "colab": {
          "base_uri": "https://localhost:8080/"
        },
        "id": "VFyUxHIGXVxb",
        "outputId": "91c2a89f-09d6-4a2f-8019-4567dd16f2df"
      },
      "execution_count": 62,
      "outputs": [
        {
          "output_type": "stream",
          "name": "stdout",
          "text": [
            "{11, 12, 13, 14, 15}\n",
            "{'Verde', 'Naranja', 'Azul', 'Amarillo', 'Rojo'}\n"
          ]
        }
      ]
    },
    {
      "cell_type": "code",
      "source": [
        "mezclado = {20, \"simon\", True, 21.22, (23,24,25)}\n",
        "print (mezclado)"
      ],
      "metadata": {
        "colab": {
          "base_uri": "https://localhost:8080/"
        },
        "id": "k3tWYM2QbAOU",
        "outputId": "8bb2b843-9463-4f53-8760-e8cb25fd66f5"
      },
      "execution_count": 65,
      "outputs": [
        {
          "output_type": "stream",
          "name": "stdout",
          "text": [
            "{True, 20, 21.22, (23, 24, 25), 'simon'}\n"
          ]
        }
      ]
    },
    {
      "cell_type": "code",
      "source": [
        "num = {1, 1, 2, 3, 4 ,5}\n",
        "print (num)"
      ],
      "metadata": {
        "colab": {
          "base_uri": "https://localhost:8080/"
        },
        "id": "cPDIm71OcR_k",
        "outputId": "4afe4abe-892e-46bb-fce2-87d7f00552fc"
      },
      "execution_count": 66,
      "outputs": [
        {
          "output_type": "stream",
          "name": "stdout",
          "text": [
            "{1, 2, 3, 4, 5}\n"
          ]
        }
      ]
    },
    {
      "cell_type": "code",
      "source": [
        "num_primos = set ([2, 3, 5, 7, 11])\n",
        "print (num_primos)"
      ],
      "metadata": {
        "colab": {
          "base_uri": "https://localhost:8080/"
        },
        "id": "n5f8Gr6jcnfM",
        "outputId": "f7caa7ae-fad5-419a-d448-00e1af16c351"
      },
      "execution_count": 67,
      "outputs": [
        {
          "output_type": "stream",
          "name": "stdout",
          "text": [
            "{2, 3, 5, 7, 11}\n"
          ]
        }
      ]
    },
    {
      "cell_type": "code",
      "source": [
        "numeros = {(33, 34), (43, 44), [53, 54]}\n",
        "print (numeros)"
      ],
      "metadata": {
        "colab": {
          "base_uri": "https://localhost:8080/",
          "height": 183
        },
        "id": "hfQoIN0Wdcoz",
        "outputId": "ab5e1eb5-ad74-4d44-fc03-c201408e15e1"
      },
      "execution_count": 68,
      "outputs": [
        {
          "output_type": "error",
          "ename": "TypeError",
          "evalue": "ignored",
          "traceback": [
            "\u001b[0;31m---------------------------------------------------------------------------\u001b[0m",
            "\u001b[0;31mTypeError\u001b[0m                                 Traceback (most recent call last)",
            "\u001b[0;32m<ipython-input-68-2077c37edcec>\u001b[0m in \u001b[0;36m<module>\u001b[0;34m\u001b[0m\n\u001b[0;32m----> 1\u001b[0;31m \u001b[0mnumeros\u001b[0m \u001b[0;34m=\u001b[0m \u001b[0;34m{\u001b[0m\u001b[0;34m(\u001b[0m\u001b[0;36m33\u001b[0m\u001b[0;34m,\u001b[0m \u001b[0;36m34\u001b[0m\u001b[0;34m)\u001b[0m\u001b[0;34m,\u001b[0m \u001b[0;34m(\u001b[0m\u001b[0;36m43\u001b[0m\u001b[0;34m,\u001b[0m \u001b[0;36m44\u001b[0m\u001b[0;34m)\u001b[0m\u001b[0;34m,\u001b[0m \u001b[0;34m[\u001b[0m\u001b[0;36m53\u001b[0m\u001b[0;34m,\u001b[0m \u001b[0;36m54\u001b[0m\u001b[0;34m]\u001b[0m\u001b[0;34m}\u001b[0m\u001b[0;34m\u001b[0m\u001b[0;34m\u001b[0m\u001b[0m\n\u001b[0m\u001b[1;32m      2\u001b[0m \u001b[0mprint\u001b[0m \u001b[0;34m(\u001b[0m\u001b[0mnumeros\u001b[0m\u001b[0;34m)\u001b[0m\u001b[0;34m\u001b[0m\u001b[0;34m\u001b[0m\u001b[0m\n",
            "\u001b[0;31mTypeError\u001b[0m: unhashable type: 'list'"
          ]
        }
      ]
    },
    {
      "cell_type": "code",
      "source": [
        "carros = {\"Compañia\": \"Kia\", \"Pais\": \"Korea\", \"Rank\" : 1}\n",
        "print (carros)\n",
        "print (carros [\"Compañia\"])\n",
        "print (carros [\"Pais\"])\n",
        "carros [\"Nombre\"] = \"Audi\"\n",
        "print (carros)\n",
        "del carros [\"Rank\"]\n",
        "print (carros)\n",
        "carros.pop (\"Pais\")\n",
        "print (carros)"
      ],
      "metadata": {
        "colab": {
          "base_uri": "https://localhost:8080/"
        },
        "id": "jQxoPQmvd-F6",
        "outputId": "54d03a4a-d848-45be-e739-d74743d27500"
      },
      "execution_count": 79,
      "outputs": [
        {
          "output_type": "stream",
          "name": "stdout",
          "text": [
            "{'Compañia': 'Kia', 'Pais': 'Korea', 'Rank': 1}\n",
            "Kia\n",
            "Korea\n",
            "{'Compañia': 'Kia', 'Pais': 'Korea', 'Rank': 1, 'Nombre': 'Audi'}\n",
            "{'Compañia': 'Kia', 'Pais': 'Korea', 'Nombre': 'Audi'}\n",
            "{'Compañia': 'Kia', 'Nombre': 'Audi'}\n"
          ]
        }
      ]
    },
    {
      "cell_type": "code",
      "source": [
        "minuscula = {'a':97, 'b':98, 'c':99}\n",
        "mayuscula = {'A':65, 'B':66, 'C':67}\n",
        "mezcla = minuscula.copy()\n",
        "mezcla.update (mayuscula)\n",
        "print (mezcla)"
      ],
      "metadata": {
        "colab": {
          "base_uri": "https://localhost:8080/"
        },
        "id": "0JZXE_CUeuSz",
        "outputId": "1792eecc-dd54-432c-929d-f41fde754962"
      },
      "execution_count": 82,
      "outputs": [
        {
          "output_type": "stream",
          "name": "stdout",
          "text": [
            "{'a': 97, 'b': 98, 'c': 99, 'A': 65, 'B': 66, 'C': 67}\n"
          ]
        }
      ]
    },
    {
      "cell_type": "code",
      "source": [
        "numeros_1 = [1, 2, 3, 4, 5, 6]\n",
        "pares = set ()\n",
        "for numeros_1 in numeros_1:\n",
        "  if numeros_1 % 2 == 0:\n",
        "    pares.add(numeros_1)"
      ],
      "metadata": {
        "id": "ZT9Qt7wIhP8M"
      },
      "execution_count": null,
      "outputs": []
    },
    {
      "cell_type": "code",
      "source": [
        "s = [x**2 for x in range (10)]\n",
        "print (s)"
      ],
      "metadata": {
        "colab": {
          "base_uri": "https://localhost:8080/"
        },
        "id": "qy3yFxriijLT",
        "outputId": "df53461b-bcfa-45f1-dedd-e40b9337aee1"
      },
      "execution_count": 85,
      "outputs": [
        {
          "output_type": "stream",
          "name": "stdout",
          "text": [
            "[0, 1, 4, 9, 16, 25, 36, 49, 64, 81]\n"
          ]
        }
      ]
    },
    {
      "cell_type": "code",
      "source": [
        "j = [x for x in s if x % 3 == 0]\n",
        "print (j)"
      ],
      "metadata": {
        "colab": {
          "base_uri": "https://localhost:8080/"
        },
        "id": "e0AzHeAijSGD",
        "outputId": "df1763b9-5a03-489a-c2ec-c3a676ebf171"
      },
      "execution_count": 86,
      "outputs": [
        {
          "output_type": "stream",
          "name": "stdout",
          "text": [
            "[0, 9, 36, 81]\n"
          ]
        }
      ]
    }
  ]
}