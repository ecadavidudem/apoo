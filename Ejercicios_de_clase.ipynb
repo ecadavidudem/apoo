{
  "nbformat": 4,
  "nbformat_minor": 0,
  "metadata": {
    "colab": {
      "name": "Ejercicios de clase",
      "provenance": []
    },
    "kernelspec": {
      "name": "python3",
      "display_name": "Python 3"
    },
    "language_info": {
      "name": "python"
    }
  },
  "cells": [
    {
      "cell_type": "code",
      "execution_count": null,
      "metadata": {
        "colab": {
          "base_uri": "https://localhost:8080/"
        },
        "id": "J1aKvyUqQYsf",
        "outputId": "a56bf652-871f-4d37-fb64-dbd6b89eaa8d"
      },
      "outputs": [
        {
          "output_type": "stream",
          "name": "stdout",
          "text": [
            "['Jquery', 'Django', 'pandas', 'gtk']\n",
            "['Python', 'Java', 'c#', 'PHP']\n"
          ]
        }
      ],
      "source": [
        "fe =[\"Jquery\",\"Django\",\"pandas\",\"gtk\"]\n",
        "be =[\"Python\",\"Java\",\"c#\",\"PHP\"]\n",
        "print(fe)\n",
        "print(be)"
      ]
    },
    {
      "cell_type": "code",
      "source": [
        "fe =[\"Jquery\",\"Django\",\"pandas\",\"gtk\"]\n",
        "be =[\"Python\",\"Java\",\"c#\",\"PHP\"]\n",
        "be.append(\"C++\")\n",
        "del fe[1]\n",
        "fe.insert(1,\"nubleJS\")\n",
        "print(fe)\n",
        "print(be)"
      ],
      "metadata": {
        "colab": {
          "base_uri": "https://localhost:8080/"
        },
        "id": "gKQm3hJlRT-O",
        "outputId": "1746d1ed-9269-46ef-8ed1-c42f3baac0ec"
      },
      "execution_count": null,
      "outputs": [
        {
          "output_type": "stream",
          "name": "stdout",
          "text": [
            "['Jquery', 'nubleJS', 'pandas', 'gtk']\n",
            "['Python', 'Java', 'c#', 'PHP', 'C++']\n"
          ]
        }
      ]
    },
    {
      "cell_type": "code",
      "source": [
        "fe =[\"Jquery\",\"Django\",\"pandas\",\"gtk\"]\n",
        "be =[\"Python\",\"Java\",\"C#\",\"PHP\"]\n",
        "\n",
        "fe.reverse()\n",
        "print(fe)\n",
        "be.sort()\n",
        "print(be)\n",
        "fe.clear()\n",
        "print(fe)"
      ],
      "metadata": {
        "colab": {
          "base_uri": "https://localhost:8080/"
        },
        "id": "uXUBlWaUSLg1",
        "outputId": "6ce7190c-0745-4727-9a2e-6fb9d8cd68f1"
      },
      "execution_count": null,
      "outputs": [
        {
          "output_type": "stream",
          "name": "stdout",
          "text": [
            "['gtk', 'pandas', 'Django', 'Jquery']\n",
            "['C#', 'Java', 'PHP', 'Python']\n",
            "[]\n"
          ]
        }
      ]
    },
    {
      "cell_type": "code",
      "source": [
        "frutas = (\"Manzana\",\"Banano\",\"Pera\",\"Uva\")\n",
        "t1 = (1,2,3,\"ola\")\n",
        "t2 = (\"bola\",[4,5,6],(7,8,9))\n",
        "\n",
        "t2[1][0]=\"A\"\n",
        "t2[1][1]=\"B\"\n",
        "t2[1][2]=\"C\"\n",
        "\n",
        "t4 = t1+t2\n",
        "print(t4)\n"
      ],
      "metadata": {
        "colab": {
          "base_uri": "https://localhost:8080/"
        },
        "id": "maBGdzdFTMct",
        "outputId": "ec0e1b5a-fe28-4f3e-8f41-34594bf6b6a6"
      },
      "execution_count": null,
      "outputs": [
        {
          "output_type": "stream",
          "name": "stdout",
          "text": [
            "(1, 2, 3, 'ola', 'bola', ['A', 'B', 'C'], (7, 8, 9))\n"
          ]
        }
      ]
    },
    {
      "cell_type": "code",
      "source": [
        "numeros = {1,2,3,4,5,6,7,8,9,10}\n",
        "colores = {\"azul\",\"verde\",\"rojo\",\"naranja\",\"violeta\",\"purpura\",\"amarillo\",\"\"}\n",
        "\n",
        "mezclado = [105,\"hablalo\",True,40.5,[23,32,35]]\n",
        "\n",
        "num ={1,1,1,2,3,4,5}\n",
        "print(num)"
      ],
      "metadata": {
        "colab": {
          "base_uri": "https://localhost:8080/"
        },
        "id": "Y-2rETGzXpda",
        "outputId": "a95e3401-a86e-4219-e041-3a625dcc3e80"
      },
      "execution_count": null,
      "outputs": [
        {
          "output_type": "stream",
          "name": "stdout",
          "text": [
            "{1, 2, 3, 4, 5}\n"
          ]
        }
      ]
    },
    {
      "cell_type": "code",
      "source": [
        "x=2\n",
        "s = [x**2 for x in range(10)]\n",
        "i = [x for x in s if x % 2 ==0]\n",
        "print(s)\n",
        "print(i)"
      ],
      "metadata": {
        "colab": {
          "base_uri": "https://localhost:8080/"
        },
        "id": "6prlD5DEjXCy",
        "outputId": "83cedd63-b5aa-4685-bd4e-8a899aa5b2b1"
      },
      "execution_count": null,
      "outputs": [
        {
          "output_type": "stream",
          "name": "stdout",
          "text": [
            "[0, 1, 4, 9, 16, 25, 36, 49, 64, 81]\n",
            "[0, 4, 16, 36, 64]\n"
          ]
        }
      ]
    }
  ]
}