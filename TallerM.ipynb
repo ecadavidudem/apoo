 fe = ["django","symfony", "rails" ]
 be = ["Python", "Java" , "C#"]
 print(fe)
 print(be)

be.append("Java")
print(be)

fe.reverse ()
print (fe)

fe.sort ()
print (fe)

fe.clear ()
print (fe)

frutas = ("Mango", "Pera","Mandarina","Sandia") 
T1 = (4,5,6,"Hola")
T2 = ("Bosque", [1, 2, 3], (5,6,7))
T3 = ('j','u','g','o','d','e','m','a','n','g','o') 

print(frutas[3]) 
print(T1[0])
print(T2[1])
print(T3[4])

tupla2[1][0]="A"
tupla2[1][1]="B"
tupla2[1][2]="C"

t4 = t2 + fruta 
print (t4)

del tupla3
print(tupla3)

frutas = frutas + ("mango", "piña")
print (frutas.count("naranja"))
print (frutas.index("pera"))

numeros = [1,2,3,4,5]
colores= ["azul", "verde","rojo", "amarillo", "rosa"]
print(numeros)
print(colores)

Mezclado={57,"Hola",True,5.2,(7,14,21)}
print(Mezclado)

num= {1,3,6,9,5}
print (num)

primos=set([1,3,5,7,11,13,17])
print(primos)

numeros = {(20, 21), (23, 24)}
print (numeros)



carros={"Company":"Kia","Country":"Korea","Rank":1}
print(carros)
print(carros['Company'])
print(carros['Country'])

carros ["name"]="audi"
print (carros)

del carros["Rank"]
print(carros)

carros.pop("Country")
print(carros)

min={'a': 75,'b':76, 'c': 77 }
may= {'A': 65, 'B': 66, 'C': 67}

mezcla=min.copy()
mezcla.update(may)
print(mezcla)

numeros=[1,2,3,5,6,7,8,9,10,11,12]
pares= set ()
for numeros in numeros:
  if numeros%2==0:
    pares.add (numeros) 
  print (pares)
  
s = [x**2 for x in range (10)]
print (s)
