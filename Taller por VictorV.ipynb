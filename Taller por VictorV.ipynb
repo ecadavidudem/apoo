{
  "nbformat": 4,
  "nbformat_minor": 0,
  "metadata": {
    "colab": {
      "name": "Taller.ipynb",
      "provenance": [],
      "authorship_tag": "ABX9TyNdOvYpfF6z3QfV5GCrKcD9",
      "include_colab_link": true
    },
    "kernelspec": {
      "name": "python3",
      "display_name": "Python 3"
    },
    "language_info": {
      "name": "python"
    }
  },
  "cells": [
    {
      "cell_type": "markdown",
      "metadata": {
        "id": "view-in-github",
        "colab_type": "text"
      },
      "source": [
        "<a href=\"https://colab.research.google.com/github/ecadavidudem/apoo/blob/main/Taller%20por%20VictorV.ipynb\" target=\"_parent\"><img src=\"https://colab.research.google.com/assets/colab-badge.svg\" alt=\"Open In Colab\"/></a>"
      ]
    },
    {
      "cell_type": "code",
      "execution_count": 6,
      "metadata": {
        "colab": {
          "base_uri": "https://localhost:8080/"
        },
        "id": "kzan2V8eOYO1",
        "outputId": "cce6ec69-eb6a-4766-86f5-4a72073a9769"
      },
      "outputs": [
        {
          "output_type": "stream",
          "name": "stdout",
          "text": [
            "['Symfony 4', 'Laravel']\n",
            "Python\n"
          ]
        }
      ],
      "source": [
        "fe=[\"Symfony 4\",\"Laravel\",\"CakePHP\"]\n",
        "\n",
        "be=[\"Python\",\"Java Script\",\"C++\"]\n",
        "\n",
        "print(fe[0:2])\n",
        "print(be[0])"
      ]
    },
    {
      "cell_type": "code",
      "source": [
        "print(fe[0:2])\n",
        "fe[2]=\"JQuery\"\n",
        "print(fe[2])"
      ],
      "metadata": {
        "colab": {
          "base_uri": "https://localhost:8080/"
        },
        "id": "tehqdatJPHkO",
        "outputId": "b88bdf52-17ba-46f2-abb8-b35c0c289cae"
      },
      "execution_count": 8,
      "outputs": [
        {
          "output_type": "stream",
          "name": "stdout",
          "text": [
            "['Symfony 4', 'Laravel']\n",
            "JQuery\n"
          ]
        }
      ]
    },
    {
      "cell_type": "code",
      "source": [
        "del be[1]\n",
        "print(be)"
      ],
      "metadata": {
        "colab": {
          "base_uri": "https://localhost:8080/"
        },
        "id": "Fqvc2xGFQxVW",
        "outputId": "1764c71a-576d-471a-a531-32d94de5d306"
      },
      "execution_count": 20,
      "outputs": [
        {
          "output_type": "stream",
          "name": "stdout",
          "text": [
            "['Python']\n"
          ]
        }
      ]
    },
    {
      "cell_type": "code",
      "source": [
        "be.append(\"Java\")\n",
        "print(be)"
      ],
      "metadata": {
        "colab": {
          "base_uri": "https://localhost:8080/"
        },
        "id": "KQcFy6TyQ8uF",
        "outputId": "0bfdd6d2-76ed-4e72-f8f5-e8096213601f"
      },
      "execution_count": 22,
      "outputs": [
        {
          "output_type": "stream",
          "name": "stdout",
          "text": [
            "['Python', 'Java Script', 'Java']\n"
          ]
        }
      ]
    },
    {
      "cell_type": "code",
      "source": [
        "fe.insert(1,\"Codelgniter\")\n",
        "print(fe)"
      ],
      "metadata": {
        "colab": {
          "base_uri": "https://localhost:8080/"
        },
        "id": "VKy1GRYTRW1l",
        "outputId": "11d07957-0d9e-4b21-bda2-d81c4eecaaf5"
      },
      "execution_count": 23,
      "outputs": [
        {
          "output_type": "stream",
          "name": "stdout",
          "text": [
            "['Symfony 4', 'Codelgniter', 'Laravel', 'JQuery']\n"
          ]
        }
      ]
    },
    {
      "cell_type": "code",
      "source": [
        "fe.reverse()\n",
        "print(fe)"
      ],
      "metadata": {
        "colab": {
          "base_uri": "https://localhost:8080/"
        },
        "id": "q1o_zmKJR5Se",
        "outputId": "242f7489-2572-494f-ca68-cf65725129f1"
      },
      "execution_count": 24,
      "outputs": [
        {
          "output_type": "stream",
          "name": "stdout",
          "text": [
            "['JQuery', 'Laravel', 'Codelgniter', 'Symfony 4']\n"
          ]
        }
      ]
    },
    {
      "cell_type": "code",
      "source": [
        "fe.sort()\n",
        "print(fe)"
      ],
      "metadata": {
        "colab": {
          "base_uri": "https://localhost:8080/"
        },
        "id": "4fnfKudMSB-l",
        "outputId": "d06f8642-ff7f-4225-902b-e33f324d4430"
      },
      "execution_count": 25,
      "outputs": [
        {
          "output_type": "stream",
          "name": "stdout",
          "text": [
            "['Codelgniter', 'JQuery', 'Laravel', 'Symfony 4']\n"
          ]
        }
      ]
    },
    {
      "cell_type": "code",
      "source": [
        "be.clear()\n",
        "print(be)"
      ],
      "metadata": {
        "colab": {
          "base_uri": "https://localhost:8080/"
        },
        "id": "7atQlyxMSJ80",
        "outputId": "38ffd183-3688-4b32-8346-ce3ccea538d8"
      },
      "execution_count": 26,
      "outputs": [
        {
          "output_type": "stream",
          "name": "stdout",
          "text": [
            "[]\n"
          ]
        }
      ]
    },
    {
      "cell_type": "code",
      "source": [
        "frutas=(\"Manzana\",\"Pera\",\"Naranja\",\"Mango\")\n",
        "tupla1=2,22,44,\"par\"\n",
        "tupla2=(\"SENA\",[2,4,6],(8,10,12))\n",
        "tupla3=(\"S\",\"E\",\"N\",\"A\",\"S\",\"O\",\"F\",\"I\",\"A\",\"P\",\"L\",\"U\",\"S\")"
      ],
      "metadata": {
        "id": "J5clh2vBSni9"
      },
      "execution_count": 37,
      "outputs": []
    },
    {
      "cell_type": "code",
      "source": [
        "print(frutas[3])\n",
        "print(tupla1[0])\n",
        "print(tupla2[1])\n",
        "print(tupla3[5])"
      ],
      "metadata": {
        "colab": {
          "base_uri": "https://localhost:8080/"
        },
        "id": "C9bgKaYnTqIN",
        "outputId": "baf29a8d-a192-42a8-ff32-90d8486c38b8"
      },
      "execution_count": 38,
      "outputs": [
        {
          "output_type": "stream",
          "name": "stdout",
          "text": [
            "Mango\n",
            "2\n",
            "[2, 4, 6]\n",
            "O\n"
          ]
        }
      ]
    },
    {
      "cell_type": "code",
      "source": [
        "print(tupla2][1[1])\n",
        "print(tupla2[2][0])"
      ],
      "metadata": {
        "colab": {
          "base_uri": "https://localhost:8080/"
        },
        "id": "L_Lsv02ZUB32",
        "outputId": "f64c6d5b-3f59-44fe-858c-187c9c15ac2f"
      },
      "execution_count": 30,
      "outputs": [
        {
          "output_type": "stream",
          "name": "stdout",
          "text": [
            "4\n",
            "8\n"
          ]
        }
      ]
    },
    {
      "cell_type": "code",
      "source": [
        "print(tupla3[-10])\n",
        "print(tupla3[-1])\n",
        "print(tupla3[1:6])\n",
        "print(tupla3[:-7])\n",
        "print(tupla3[:])\n",
        "print(tupla3[-4:])"
      ],
      "metadata": {
        "colab": {
          "base_uri": "https://localhost:8080/"
        },
        "id": "ehT7q26JUMtV",
        "outputId": "b003a806-7afa-4bd6-c9c7-7c722f955d6b"
      },
      "execution_count": 39,
      "outputs": [
        {
          "output_type": "stream",
          "name": "stdout",
          "text": [
            "A\n",
            "S\n",
            "('E', 'N', 'A', 'S', 'O')\n",
            "('S', 'E', 'N', 'A', 'S', 'O')\n",
            "('S', 'E', 'N', 'A', 'S', 'O', 'F', 'I', 'A', 'P', 'L', 'U', 'S')\n",
            "('P', 'L', 'U', 'S')\n"
          ]
        }
      ]
    },
    {
      "cell_type": "code",
      "source": [
        "tupla2[1][0]=\"A\"\n",
        "tupla2[1][1]=\"B\"\n",
        "tupla2[1][2]=\"C\""
      ],
      "metadata": {
        "id": "KjgZhgtjURP9"
      },
      "execution_count": 40,
      "outputs": []
    },
    {
      "cell_type": "code",
      "source": [
        "print(tupla2)"
      ],
      "metadata": {
        "colab": {
          "base_uri": "https://localhost:8080/"
        },
        "id": "lDBoCikKU4Ol",
        "outputId": "6b9cac55-bdec-402c-f952-79afae36d0e6"
      },
      "execution_count": 41,
      "outputs": [
        {
          "output_type": "stream",
          "name": "stdout",
          "text": [
            "('SENA', ['A', 'B', 'C'], (8, 10, 12))\n"
          ]
        }
      ]
    },
    {
      "cell_type": "code",
      "source": [
        "tupla4=tupla2+frutas\n",
        "print(tupla4)"
      ],
      "metadata": {
        "colab": {
          "base_uri": "https://localhost:8080/"
        },
        "id": "DHDxMC-DXJrf",
        "outputId": "5e137265-e73f-4008-d7fd-1e6f8d2a6944"
      },
      "execution_count": 45,
      "outputs": [
        {
          "output_type": "stream",
          "name": "stdout",
          "text": [
            "('SENA', ['A', 'B', 'C'], (8, 10, 12), 'Manzana', 'Pera', 'Naranja', 'Mango')\n"
          ]
        }
      ]
    },
    {
      "cell_type": "code",
      "source": [
        "del tupla3\n",
        "print(tupla3)"
      ],
      "metadata": {
        "colab": {
          "base_uri": "https://localhost:8080/",
          "height": 183
        },
        "id": "SdKI6hnYX2Ou",
        "outputId": "5e4f1c4b-90f4-490b-f91f-2c69e1732751"
      },
      "execution_count": 46,
      "outputs": [
        {
          "output_type": "error",
          "ename": "NameError",
          "evalue": "ignored",
          "traceback": [
            "\u001b[0;31m---------------------------------------------------------------------------\u001b[0m",
            "\u001b[0;31mNameError\u001b[0m                                 Traceback (most recent call last)",
            "\u001b[0;32m<ipython-input-46-6b8bea6f4970>\u001b[0m in \u001b[0;36m<module>\u001b[0;34m\u001b[0m\n\u001b[0;32m----> 1\u001b[0;31m \u001b[0;32mdel\u001b[0m \u001b[0mtupla3\u001b[0m\u001b[0;34m\u001b[0m\u001b[0;34m\u001b[0m\u001b[0m\n\u001b[0m\u001b[1;32m      2\u001b[0m \u001b[0mprint\u001b[0m\u001b[0;34m(\u001b[0m\u001b[0mtupla3\u001b[0m\u001b[0;34m)\u001b[0m\u001b[0;34m\u001b[0m\u001b[0;34m\u001b[0m\u001b[0m\n",
            "\u001b[0;31mNameError\u001b[0m: name 'tupla3' is not defined"
          ]
        }
      ]
    },
    {
      "cell_type": "code",
      "source": [
        "frutas=frutas+(\"Esternocleidomastoideo\",\"Paranguaricutirimícuaro\")\n",
        "print(frutas)"
      ],
      "metadata": {
        "colab": {
          "base_uri": "https://localhost:8080/"
        },
        "id": "0x62VHkEX3rV",
        "outputId": "950844c6-86d9-4309-ac22-017fc5134fc5"
      },
      "execution_count": 50,
      "outputs": [
        {
          "output_type": "stream",
          "name": "stdout",
          "text": [
            "('Manzana', 'Pera', 'Naranja', 'Mango', 'Esternocleidomastoideo', 'Paranguaricutirimícuaro', 'Esternocleidomastoideo', 'Paranguaricutirimícuaro', 'Esternocleidomastoideo', 'Paranguaricutirimícuaro')\n"
          ]
        }
      ]
    },
    {
      "cell_type": "code",
      "source": [
        "print(frutas.count(\"Esternocleidomastoideo\"))"
      ],
      "metadata": {
        "colab": {
          "base_uri": "https://localhost:8080/"
        },
        "id": "Fu3hP9tYYPVV",
        "outputId": "22f10313-6469-4b46-f488-f7834124f706"
      },
      "execution_count": 59,
      "outputs": [
        {
          "output_type": "stream",
          "name": "stdout",
          "text": [
            "3\n"
          ]
        }
      ]
    },
    {
      "cell_type": "code",
      "source": [
        "print(frutas.index(\"Pera\"))"
      ],
      "metadata": {
        "colab": {
          "base_uri": "https://localhost:8080/"
        },
        "id": "5af3Tf2QZL4V",
        "outputId": "47d70105-1d63-40d7-f81b-59b326bd97c6"
      },
      "execution_count": 61,
      "outputs": [
        {
          "output_type": "stream",
          "name": "stdout",
          "text": [
            "1\n"
          ]
        }
      ]
    },
    {
      "cell_type": "code",
      "source": [
        "numeros={2,4,6,8,10}\n",
        "colores={\"Amarillo\",\"Azul\",\"Rojo\",\"Negro\",\"Verde\",\"Rosado\",\"Vino Tinto\",\"Piel\",\"Naranja\"}\n",
        "print(numeros)\n",
        "print(colores)"
      ],
      "metadata": {
        "colab": {
          "base_uri": "https://localhost:8080/"
        },
        "id": "tQXqoK6Kav7M",
        "outputId": "78640866-b042-49bc-b06b-baa4b408e9e5"
      },
      "execution_count": 63,
      "outputs": [
        {
          "output_type": "stream",
          "name": "stdout",
          "text": [
            "{2, 4, 6, 8, 10}\n",
            "{'Negro', 'Azul', 'Piel', 'Amarillo', 'Naranja', 'Verde', 'Vino Tinto', 'Rosado', 'Rojo'}\n"
          ]
        }
      ]
    },
    {
      "cell_type": "code",
      "source": [
        "Mezclado={2,\"Primos\",True,2.2,(7,11,13)}\n",
        "print(Mezclado)"
      ],
      "metadata": {
        "colab": {
          "base_uri": "https://localhost:8080/"
        },
        "id": "Qybhl0S4bKsV",
        "outputId": "cfe0066b-6844-466f-f1c7-ee89819a2629"
      },
      "execution_count": 67,
      "outputs": [
        {
          "output_type": "stream",
          "name": "stdout",
          "text": [
            "{True, 2, 2.2, (7, 11, 13), 'Primos'}\n"
          ]
        }
      ]
    },
    {
      "cell_type": "code",
      "source": [
        "num={2,4,6,8}\n",
        "print(num)"
      ],
      "metadata": {
        "colab": {
          "base_uri": "https://localhost:8080/"
        },
        "id": "c0DPYeVicspH",
        "outputId": "0077aec0-5184-4ec3-fe0f-d0e641125195"
      },
      "execution_count": 68,
      "outputs": [
        {
          "output_type": "stream",
          "name": "stdout",
          "text": [
            "{8, 2, 4, 6}\n"
          ]
        }
      ]
    },
    {
      "cell_type": "code",
      "source": [
        "primos=set([1,3,5,7,11,13,17,19,23,29,])\n",
        "print(primos)"
      ],
      "metadata": {
        "colab": {
          "base_uri": "https://localhost:8080/"
        },
        "id": "Zl8M1NrQdDVF",
        "outputId": "b37c2e45-e1df-4f18-d222-3beaa5d5c66f"
      },
      "execution_count": 70,
      "outputs": [
        {
          "output_type": "stream",
          "name": "stdout",
          "text": [
            "{1, 3, 5, 7, 11, 13, 17, 19, 23, 29}\n"
          ]
        }
      ]
    },
    {
      "cell_type": "code",
      "source": [
        "numbers={(3,7),(4,9)}\n",
        "print(numbers)"
      ],
      "metadata": {
        "colab": {
          "base_uri": "https://localhost:8080/"
        },
        "id": "QevueQrfdnmV",
        "outputId": "55840177-9971-4f31-f0a3-f8937a7e5adc"
      },
      "execution_count": 74,
      "outputs": [
        {
          "output_type": "stream",
          "name": "stdout",
          "text": [
            "{(3, 7), (4, 9)}\n"
          ]
        }
      ]
    },
    {
      "cell_type": "code",
      "source": [
        "carros={\"Company\":\"Kia\",\"Country\":\"Korea\",\"Rank\":1}\n",
        "print(carros)\n",
        "print(carros['Company'])\n",
        "print(carros['Country'])\n"
      ],
      "metadata": {
        "colab": {
          "base_uri": "https://localhost:8080/"
        },
        "id": "g8JPwL6_dnqm",
        "outputId": "f9a3c14c-f1fa-428d-8bd1-1969643669f9"
      },
      "execution_count": 80,
      "outputs": [
        {
          "output_type": "stream",
          "name": "stdout",
          "text": [
            "{'Company': 'Kia', 'Country': 'Korea', 'Rank': 1}\n",
            "Kia\n",
            "Korea\n"
          ]
        }
      ]
    },
    {
      "cell_type": "code",
      "source": [
        "carros[\"Name\"]=\"Audi\"\n",
        "print(carros)\n"
      ],
      "metadata": {
        "colab": {
          "base_uri": "https://localhost:8080/"
        },
        "id": "FGjh6mH5e9MN",
        "outputId": "963df3bd-86ed-4f77-a037-fefdbb1f4025"
      },
      "execution_count": 81,
      "outputs": [
        {
          "output_type": "stream",
          "name": "stdout",
          "text": [
            "{'Company': 'Kia', 'Country': 'Korea', 'Rank': 1, 'Name': 'Audi'}\n"
          ]
        }
      ]
    },
    {
      "cell_type": "code",
      "source": [
        "del carros[\"Rank\"]\n",
        "print(carros)"
      ],
      "metadata": {
        "colab": {
          "base_uri": "https://localhost:8080/"
        },
        "id": "3Rq6Sc77fJ69",
        "outputId": "9da1cd2c-692e-4663-d062-f542625e8486"
      },
      "execution_count": 82,
      "outputs": [
        {
          "output_type": "stream",
          "name": "stdout",
          "text": [
            "{'Company': 'Kia', 'Country': 'Korea', 'Name': 'Audi'}\n"
          ]
        }
      ]
    },
    {
      "cell_type": "code",
      "source": [
        "carros.pop(\"Country\")\n",
        "print(carros)\n"
      ],
      "metadata": {
        "colab": {
          "base_uri": "https://localhost:8080/"
        },
        "id": "zH_Gt6YrfR6V",
        "outputId": "d6919dc7-d38f-4696-a808-8ede2053c4f2"
      },
      "execution_count": 84,
      "outputs": [
        {
          "output_type": "stream",
          "name": "stdout",
          "text": [
            "{'Company': 'Kia', 'Name': 'Audi'}\n"
          ]
        }
      ]
    },
    {
      "cell_type": "code",
      "source": [
        "min={'a':97,'b':98,'c':99}\n",
        "may={'A':65,'B':66,'C':67}"
      ],
      "metadata": {
        "id": "G7Ez81vIfvLW"
      },
      "execution_count": 90,
      "outputs": []
    },
    {
      "cell_type": "code",
      "source": [
        "mezcla=min.copy()\n",
        "mezcla.update(may)\n",
        "print(mezcla)"
      ],
      "metadata": {
        "colab": {
          "base_uri": "https://localhost:8080/"
        },
        "id": "U61sC-RSfuvM",
        "outputId": "91a04aab-f5df-4296-aa8e-afa79d41a6d2"
      },
      "execution_count": 93,
      "outputs": [
        {
          "output_type": "stream",
          "name": "stdout",
          "text": [
            "{'a': 97, 'b': 98, 'c': 99, 'A': 65, 'B': 66, 'C': 67}\n"
          ]
        }
      ]
    },
    {
      "cell_type": "code",
      "source": [
        "numeros=[1,2,3,4,5,6,7,8,9,10,11,12,13,14,15,16,17,18,19,20]\n",
        "pares=set()\n",
        "for numero in numeros:\n",
        "  if numero%2==0:\n",
        "    pares.add(numero)\n",
        " \n",
        "print(numero)"
      ],
      "metadata": {
        "colab": {
          "base_uri": "https://localhost:8080/"
        },
        "id": "3PLzwigDhDhF",
        "outputId": "231c93d1-1e26-4d5e-96a1-66c62c5fb97b"
      },
      "execution_count": 100,
      "outputs": [
        {
          "output_type": "stream",
          "name": "stdout",
          "text": [
            "20\n"
          ]
        }
      ]
    },
    {
      "cell_type": "code",
      "source": [
        "s=[x**2 for x in range(10)]\n",
        "print(s)"
      ],
      "metadata": {
        "colab": {
          "base_uri": "https://localhost:8080/"
        },
        "id": "FC7kTYizihCn",
        "outputId": "e211a779-f619-4507-ffa1-1f8d7acd15e0"
      },
      "execution_count": 102,
      "outputs": [
        {
          "output_type": "stream",
          "name": "stdout",
          "text": [
            "[0, 1, 4, 9, 16, 25, 36, 49, 64, 81]\n"
          ]
        }
      ]
    },
    {
      "cell_type": "code",
      "source": [
        "s=[x for x in s if x%3==0]\n",
        "print(s)"
      ],
      "metadata": {
        "colab": {
          "base_uri": "https://localhost:8080/"
        },
        "id": "ly2dl1RMjX9c",
        "outputId": "7e561fdd-c98a-42de-cb6e-09572a611bc3"
      },
      "execution_count": 103,
      "outputs": [
        {
          "output_type": "stream",
          "name": "stdout",
          "text": [
            "[0, 9, 36, 81]\n"
          ]
        }
      ]
    },
    {
      "cell_type": "code",
      "source": [
        "def to_str_fill(i):\n",
        "  t = str(i).zfill(8)\n",
        "  return t\n",
        "\n",
        "\n",
        "s2=[to_str_fill(x) for x in s]\n",
        "s=[print(x) for x in s2]"
      ],
      "metadata": {
        "colab": {
          "base_uri": "https://localhost:8080/"
        },
        "id": "gESx1hrvj1wG",
        "outputId": "70f5641d-609f-424e-b4a4-66d778b3436c"
      },
      "execution_count": 105,
      "outputs": [
        {
          "output_type": "stream",
          "name": "stdout",
          "text": [
            "00000000\n",
            "00000009\n",
            "00000036\n",
            "00000081\n"
          ]
        }
      ]
    }
  ]
}