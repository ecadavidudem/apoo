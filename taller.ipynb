{
 "cells": [
  {
   "cell_type": "code",
   "execution_count": 1,
   "metadata": {},
   "outputs": [],
   "source": [
    "frutas=(\"Piña\",\"Manzana\",\"Banana\",\"Pera\")\n",
    "tupla1=3,7,15,\"impar\"\n",
    "tupla2=(\"PAZ\",[3,7,21],(4,8,12))\n",
    "tupla3=(\"S\",\"A\",\"N\",\"T\",\"O\",\"S\")"
   ]
  },
  {
   "cell_type": "code",
   "execution_count": 6,
   "metadata": {},
   "outputs": [
    {
     "name": "stdout",
     "output_type": "stream",
     "text": [
      "Banana\n",
      "7\n",
      "PAZ\n",
      "T\n"
     ]
    }
   ],
   "source": [
    "print(frutas[2])\n",
    "print(tupla1[1])\n",
    "print(tupla2[0])\n",
    "print(tupla3[3])"
   ]
  },
  {
   "cell_type": "code",
   "execution_count": 9,
   "metadata": {},
   "outputs": [
    {
     "name": "stdout",
     "output_type": "stream",
     "text": [
      "7\n"
     ]
    }
   ],
   "source": [
    "print(tupla2[1][1])\n"
   ]
  },
  {
   "cell_type": "code",
   "execution_count": 10,
   "metadata": {},
   "outputs": [
    {
     "name": "stdout",
     "output_type": "stream",
     "text": [
      "O\n",
      "N\n",
      "('N',)\n",
      "('S',)\n",
      "('S', 'A', 'N', 'T', 'O', 'S')\n",
      "('S',)\n"
     ]
    }
   ],
   "source": [
    "print(tupla3[-2])\n",
    "print(tupla3[-4])\n",
    "print(tupla3[2:3])\n",
    "print(tupla3[:-5])\n",
    "print(tupla3[:])\n",
    "print(tupla3[-1:])\n",
    "\n"
   ]
  },
  {
   "cell_type": "code",
   "execution_count": 17,
   "metadata": {},
   "outputs": [],
   "source": [
    "tupla2[1][0]=\"V\"\n",
    "tupla2[1][2]=\"Y\"\n",
    "tupla2[1][1]=\"Z\"\n"
   ]
  },
  {
   "cell_type": "code",
   "execution_count": 15,
   "metadata": {},
   "outputs": [
    {
     "name": "stdout",
     "output_type": "stream",
     "text": [
      "('PAZ', ['V', 'Z', 'Y'], (4, 8, 12))\n"
     ]
    }
   ],
   "source": [
    "print(tupla2)"
   ]
  },
  {
   "cell_type": "code",
   "execution_count": 18,
   "metadata": {},
   "outputs": [
    {
     "name": "stdout",
     "output_type": "stream",
     "text": [
      "('PAZ', ['V', 'Z', 'Y'], (4, 8, 12), 'Piña', 'Manzana', 'Banana', 'Pera')\n"
     ]
    }
   ],
   "source": [
    "tupla4=tupla2+frutas\n",
    "print(tupla4)"
   ]
  },
  {
   "cell_type": "code",
   "execution_count": 20,
   "metadata": {},
   "outputs": [
    {
     "ename": "NameError",
     "evalue": "name 'tupla3' is not defined",
     "output_type": "error",
     "traceback": [
      "\u001b[1;31m---------------------------------------------------------------------------\u001b[0m",
      "\u001b[1;31mNameError\u001b[0m                                 Traceback (most recent call last)",
      "\u001b[1;32mUntitled-1.ipynb Cell 8\u001b[0m in \u001b[0;36m<cell line: 1>\u001b[1;34m()\u001b[0m\n\u001b[1;32m----> <a href='vscode-notebook-cell:Untitled-1.ipynb?jupyter-notebook#X10sdW50aXRsZWQ%3D?line=0'>1</a>\u001b[0m \u001b[39mdel\u001b[39;00m tupla3\n\u001b[0;32m      <a href='vscode-notebook-cell:Untitled-1.ipynb?jupyter-notebook#X10sdW50aXRsZWQ%3D?line=1'>2</a>\u001b[0m \u001b[39mprint\u001b[39m(tupla3)\n",
      "\u001b[1;31mNameError\u001b[0m: name 'tupla3' is not defined"
     ]
    }
   ],
   "source": [
    "del tupla3\n",
    "print(tupla3)"
   ]
  },
  {
   "cell_type": "code",
   "execution_count": 21,
   "metadata": {},
   "outputs": [
    {
     "name": "stdout",
     "output_type": "stream",
     "text": [
      "('Piña', 'Manzana', 'Banana', 'Pera', 'Papaya', 'Uva')\n"
     ]
    }
   ],
   "source": [
    "frutas=frutas+(\"Papaya\",\"Uva\")\n",
    "print(frutas)"
   ]
  },
  {
   "cell_type": "code",
   "execution_count": 22,
   "metadata": {},
   "outputs": [
    {
     "name": "stdout",
     "output_type": "stream",
     "text": [
      "1\n"
     ]
    }
   ],
   "source": [
    "print(frutas.count(\"Papaya\"))"
   ]
  },
  {
   "cell_type": "code",
   "execution_count": 23,
   "metadata": {},
   "outputs": [
    {
     "name": "stdout",
     "output_type": "stream",
     "text": [
      "5\n"
     ]
    }
   ],
   "source": [
    "print(frutas.index(\"Uva\"))"
   ]
  },
  {
   "cell_type": "code",
   "execution_count": 25,
   "metadata": {},
   "outputs": [
    {
     "name": "stdout",
     "output_type": "stream",
     "text": [
      "{1, 3, 5, 7, 9}\n",
      "{'negro', 'rojo', 'azul', 'blanco', 'amarillo'}\n"
     ]
    }
   ],
   "source": [
    "numeros={1,3,5,7,9}\n",
    "colores={\"blanco\",\"negro\",\"amarillo\",\"azul\",\"rojo\"}\n",
    "print(numeros)\n",
    "print(colores)"
   ]
  },
  {
   "cell_type": "code",
   "execution_count": 28,
   "metadata": {},
   "outputs": [
    {
     "name": "stdout",
     "output_type": "stream",
     "text": [
      "{True, 2, 'primos', 2.4, (1, 3, 7)}\n"
     ]
    }
   ],
   "source": [
    "Mezclado={2,\"primos\",True,2.4,(1,3,7)}\n",
    "print(Mezclado)"
   ]
  },
  {
   "cell_type": "code",
   "execution_count": 29,
   "metadata": {},
   "outputs": [
    {
     "name": "stdout",
     "output_type": "stream",
     "text": [
      "{2, 4, 6, 8, 10}\n"
     ]
    }
   ],
   "source": [
    "num={2,4,6,8,10}\n",
    "print(num)"
   ]
  },
  {
   "cell_type": "code",
   "execution_count": 30,
   "metadata": {},
   "outputs": [
    {
     "name": "stdout",
     "output_type": "stream",
     "text": [
      "{1, 3, 7, 9, 11, 13, 17, 19}\n"
     ]
    }
   ],
   "source": [
    "numPrimos=set([1,3,7,9,11,13,17,19])\n",
    "print(numPrimos)"
   ]
  },
  {
   "cell_type": "code",
   "execution_count": 31,
   "metadata": {},
   "outputs": [
    {
     "name": "stdout",
     "output_type": "stream",
     "text": [
      "{(7, 9), (1, 3)}\n"
     ]
    }
   ],
   "source": [
    "numbers={(1,3),(7,9)}\n",
    "print(numbers)"
   ]
  },
  {
   "cell_type": "code",
   "execution_count": 36,
   "metadata": {},
   "outputs": [
    {
     "name": "stdout",
     "output_type": "stream",
     "text": [
      "{'Company': 'Kia', 'Country': 'Korea', 'Rank': 1}\n",
      "Kia\n",
      "Korea\n"
     ]
    }
   ],
   "source": [
    "carros={\"Company\":\"Kia\",\"Country\":\"Korea\",\"Rank\":1}\n",
    "print(carros)\n",
    "print(carros[\"Company\"])\n",
    "print(carros[\"Country\"])"
   ]
  },
  {
   "cell_type": "code",
   "execution_count": 37,
   "metadata": {},
   "outputs": [
    {
     "name": "stdout",
     "output_type": "stream",
     "text": [
      "{'Company': 'Kia', 'Country': 'Korea', 'Rank': 1, 'Name': 'Audi'}\n"
     ]
    }
   ],
   "source": [
    "carros[\"Name\"]=\"Audi\"\n",
    "print(carros)"
   ]
  },
  {
   "cell_type": "code",
   "execution_count": 38,
   "metadata": {},
   "outputs": [
    {
     "name": "stdout",
     "output_type": "stream",
     "text": [
      "{'Company': 'Kia', 'Country': 'Korea', 'Name': 'Audi'}\n"
     ]
    }
   ],
   "source": [
    "del carros[\"Rank\"]\n",
    "print(carros)"
   ]
  },
  {
   "cell_type": "code",
   "execution_count": null,
   "metadata": {},
   "outputs": [],
   "source": []
  },
  {
   "cell_type": "code",
   "execution_count": null,
   "metadata": {},
   "outputs": [],
   "source": []
  }
 ],
 "metadata": {
  "kernelspec": {
   "display_name": "Python 3.10.5 64-bit",
   "language": "python",
   "name": "python3"
  },
  "language_info": {
   "codemirror_mode": {
    "name": "ipython",
    "version": 3
   },
   "file_extension": ".py",
   "mimetype": "text/x-python",
   "name": "python",
   "nbconvert_exporter": "python",
   "pygments_lexer": "ipython3",
   "version": "3.10.5"
  },
  "orig_nbformat": 4,
  "vscode": {
   "interpreter": {
    "hash": "26de051ba29f2982a8de78e945f0abaf191376122a1563185a90213a26c5da77"
   }
  }
 },
 "nbformat": 4,
 "nbformat_minor": 2
}
