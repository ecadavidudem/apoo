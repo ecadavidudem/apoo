{
  "nbformat": 4,
  "nbformat_minor": 0,
  "metadata": {
    "colab": {
      "name": "Untitled0.ipynb",
      "provenance": [],
      "authorship_tag": "ABX9TyMU/cDv9fIr8XNVJrBli65n",
      "include_colab_link": true
    },
    "kernelspec": {
      "name": "python3",
      "display_name": "Python 3"
    },
    "language_info": {
      "name": "python"
    }
  },
  "cells": [
    {
      "cell_type": "markdown",
      "metadata": {
        "id": "view-in-github",
        "colab_type": "text"
      },
      "source": [
        "<a href=\"https://colab.research.google.com/github/ecadavidudem/apoo/blob/JohaoB/Untitled0.ipynb\" target=\"_parent\"><img src=\"https://colab.research.google.com/assets/colab-badge.svg\" alt=\"Open In Colab\"/></a>"
      ]
    },
    {
      "cell_type": "code",
      "execution_count": 76,
      "metadata": {
        "colab": {
          "base_uri": "https://localhost:8080/"
        },
        "id": "Iaxmf60vNvp8",
        "outputId": "a811566c-21a1-449b-e077-905b2ae7f561"
      },
      "outputs": [
        {
          "output_type": "stream",
          "name": "stdout",
          "text": [
            "['Django', 'FastApi', 'Tornado']\n",
            "['Ruby', 'Python', 'Java']\n"
          ]
        }
      ],
      "source": [
        "Fe = [\"Django\", \"FastApi\", \"Tornado\"]\n",
        "Be = [\"Ruby\", \"Python\", \"Java\"]\n",
        "\n",
        "print(Fe)\n",
        "print(Be)"
      ]
    },
    {
      "cell_type": "code",
      "source": [
        "print(Fe[1])\n",
        "print(Be[0])"
      ],
      "metadata": {
        "colab": {
          "base_uri": "https://localhost:8080/"
        },
        "id": "dulTARVZPTfM",
        "outputId": "d3d347dd-89a2-46f8-f084-39486c0cee7e"
      },
      "execution_count": 77,
      "outputs": [
        {
          "output_type": "stream",
          "name": "stdout",
          "text": [
            "FastApi\n",
            "Ruby\n"
          ]
        }
      ]
    },
    {
      "cell_type": "code",
      "source": [
        "print(Fe[0:2])"
      ],
      "metadata": {
        "colab": {
          "base_uri": "https://localhost:8080/"
        },
        "id": "hV40mEr8QgEv",
        "outputId": "e31f3fee-b948-4748-f652-69580301958c"
      },
      "execution_count": 78,
      "outputs": [
        {
          "output_type": "stream",
          "name": "stdout",
          "text": [
            "['Django', 'FastApi']\n"
          ]
        }
      ]
    },
    {
      "cell_type": "code",
      "source": [
        "Fe[2] = \"JQuery\"\n",
        "print (Fe)"
      ],
      "metadata": {
        "colab": {
          "base_uri": "https://localhost:8080/"
        },
        "id": "iNMarpyZQ5M-",
        "outputId": "48ca56b0-9b1a-468c-9760-d48c99203dbb"
      },
      "execution_count": 79,
      "outputs": [
        {
          "output_type": "stream",
          "name": "stdout",
          "text": [
            "['Django', 'FastApi', 'JQuery']\n"
          ]
        }
      ]
    },
    {
      "cell_type": "code",
      "source": [
        "del Be [1]\n",
        "print(Be)"
      ],
      "metadata": {
        "colab": {
          "base_uri": "https://localhost:8080/"
        },
        "id": "R51kG4ygQp2G",
        "outputId": "db9d6fb5-7ac4-4926-c763-1d8063b38d5c"
      },
      "execution_count": 80,
      "outputs": [
        {
          "output_type": "stream",
          "name": "stdout",
          "text": [
            "['Ruby', 'Java']\n"
          ]
        }
      ]
    },
    {
      "cell_type": "code",
      "source": [
        "Be.append (\"C++\")\n",
        "print(Be)"
      ],
      "metadata": {
        "colab": {
          "base_uri": "https://localhost:8080/"
        },
        "id": "HQQcAHgRRH0u",
        "outputId": "fb92193a-f934-4a2d-dcde-fa1bab8fc15f"
      },
      "execution_count": 81,
      "outputs": [
        {
          "output_type": "stream",
          "name": "stdout",
          "text": [
            "['Ruby', 'Java', 'C++']\n"
          ]
        }
      ]
    },
    {
      "cell_type": "code",
      "source": [
        "Fe.insert (1, \"NubleJS\")\n",
        "print(Fe)"
      ],
      "metadata": {
        "colab": {
          "base_uri": "https://localhost:8080/"
        },
        "id": "vvcguRJiRZIN",
        "outputId": "c686e41f-5f3f-490a-85da-1c6ec123f7a3"
      },
      "execution_count": 82,
      "outputs": [
        {
          "output_type": "stream",
          "name": "stdout",
          "text": [
            "['Django', 'NubleJS', 'FastApi', 'JQuery']\n"
          ]
        }
      ]
    },
    {
      "cell_type": "code",
      "source": [
        "Fe.reverse()\n",
        "print(Fe)"
      ],
      "metadata": {
        "colab": {
          "base_uri": "https://localhost:8080/"
        },
        "id": "uGSUsjjxRugG",
        "outputId": "f02b54df-7263-4bdd-c3a7-c3acfd50c5ec"
      },
      "execution_count": 83,
      "outputs": [
        {
          "output_type": "stream",
          "name": "stdout",
          "text": [
            "['JQuery', 'FastApi', 'NubleJS', 'Django']\n"
          ]
        }
      ]
    },
    {
      "cell_type": "code",
      "source": [
        "Fe.sort()\n",
        "print(Fe)"
      ],
      "metadata": {
        "colab": {
          "base_uri": "https://localhost:8080/"
        },
        "id": "SaDbDwt3SA-n",
        "outputId": "18858dda-5ac0-49f4-f8ce-28784743927a"
      },
      "execution_count": 84,
      "outputs": [
        {
          "output_type": "stream",
          "name": "stdout",
          "text": [
            "['Django', 'FastApi', 'JQuery', 'NubleJS']\n"
          ]
        }
      ]
    },
    {
      "cell_type": "code",
      "source": [
        "Be.clear()\n",
        "print(Be)"
      ],
      "metadata": {
        "colab": {
          "base_uri": "https://localhost:8080/"
        },
        "id": "nWKAwz0BSic2",
        "outputId": "4e407dac-132a-4518-d931-0e0cf1f9ead0"
      },
      "execution_count": 85,
      "outputs": [
        {
          "output_type": "stream",
          "name": "stdout",
          "text": [
            "[]\n"
          ]
        }
      ]
    },
    {
      "cell_type": "code",
      "source": [
        "#Frutas\n",
        "\n",
        "frutas = (\"Piña\", \"Melocoton\",\"Mandarina\",\"Coco\")\n",
        "T1 = (4,5,6,\"Bye\")\n",
        "T2 = (\"Niño\", [10, 2, 4], (9,8,7))\n",
        "T3 = ('j','o','h','a','o','a','l','e','x','a','n')\n",
        "\n",
        "print(frutas[3])\n",
        "print(T1[0])\n",
        "print(T2[1])\n",
        "print(T3[4])"
      ],
      "metadata": {
        "colab": {
          "base_uri": "https://localhost:8080/"
        },
        "id": "cAkp_TSWSt5o",
        "outputId": "13595f5f-c6c9-4bf7-ae7e-34eb3b4ddf30"
      },
      "execution_count": 86,
      "outputs": [
        {
          "output_type": "stream",
          "name": "stdout",
          "text": [
            "Coco\n",
            "4\n",
            "[10, 2, 4]\n",
            "o\n"
          ]
        }
      ]
    },
    {
      "cell_type": "code",
      "source": [
        "print(T2[1][1])\n",
        "print(T2[2][0])\n",
        "\n",
        "print(T3[-10])\n",
        "print(T3[-1])"
      ],
      "metadata": {
        "colab": {
          "base_uri": "https://localhost:8080/"
        },
        "id": "PB3ebDoYUfvn",
        "outputId": "4b35d7d8-ce61-4b9e-bebb-10180cdd678b"
      },
      "execution_count": 87,
      "outputs": [
        {
          "output_type": "stream",
          "name": "stdout",
          "text": [
            "2\n",
            "9\n",
            "o\n",
            "n\n"
          ]
        }
      ]
    },
    {
      "cell_type": "code",
      "source": [
        "print(T3[1:6])\n",
        "print(T3[:-7])\n",
        "print(T3[-4:])\n",
        "print(T3[:])"
      ],
      "metadata": {
        "colab": {
          "base_uri": "https://localhost:8080/"
        },
        "id": "Qo2qsg6IUycu",
        "outputId": "088a7b85-b6f6-4e03-ff1e-5745213ce2ba"
      },
      "execution_count": 88,
      "outputs": [
        {
          "output_type": "stream",
          "name": "stdout",
          "text": [
            "('o', 'h', 'a', 'o', 'a')\n",
            "('j', 'o', 'h', 'a')\n",
            "('e', 'x', 'a', 'n')\n",
            "('j', 'o', 'h', 'a', 'o', 'a', 'l', 'e', 'x', 'a', 'n')\n"
          ]
        }
      ]
    },
    {
      "cell_type": "code",
      "source": [
        "T2[1][0] = 'A'\n",
        "T2[1][1] = 'B'\n",
        "T2[1][2] = 'C'"
      ],
      "metadata": {
        "id": "DQ5DsuZNWGWf"
      },
      "execution_count": 89,
      "outputs": []
    },
    {
      "cell_type": "code",
      "source": [
        "T4 = T2\n",
        "print(T4)"
      ],
      "metadata": {
        "colab": {
          "base_uri": "https://localhost:8080/"
        },
        "id": "40ITXpjPWaTN",
        "outputId": "b18be7f5-56a1-46ca-aed3-5fcc350c5e68"
      },
      "execution_count": 90,
      "outputs": [
        {
          "output_type": "stream",
          "name": "stdout",
          "text": [
            "('Niño', ['A', 'B', 'C'], (9, 8, 7))\n"
          ]
        }
      ]
    },
    {
      "cell_type": "code",
      "source": [
        "del T3\n",
        "print(T3)"
      ],
      "metadata": {
        "colab": {
          "base_uri": "https://localhost:8080/",
          "height": 183
        },
        "id": "zz6c6ygYahL4",
        "outputId": "4ce60df1-1e8b-4645-f48d-fdead581beed"
      },
      "execution_count": 92,
      "outputs": [
        {
          "output_type": "error",
          "ename": "NameError",
          "evalue": "ignored",
          "traceback": [
            "\u001b[0;31m---------------------------------------------------------------------------\u001b[0m",
            "\u001b[0;31mNameError\u001b[0m                                 Traceback (most recent call last)",
            "\u001b[0;32m<ipython-input-92-eb24c67346a6>\u001b[0m in \u001b[0;36m<module>\u001b[0;34m\u001b[0m\n\u001b[1;32m      1\u001b[0m \u001b[0;32mdel\u001b[0m \u001b[0mT3\u001b[0m\u001b[0;34m\u001b[0m\u001b[0;34m\u001b[0m\u001b[0m\n\u001b[0;32m----> 2\u001b[0;31m \u001b[0mprint\u001b[0m\u001b[0;34m(\u001b[0m\u001b[0mT3\u001b[0m\u001b[0;34m)\u001b[0m\u001b[0;34m\u001b[0m\u001b[0;34m\u001b[0m\u001b[0m\n\u001b[0m",
            "\u001b[0;31mNameError\u001b[0m: name 'T3' is not defined"
          ]
        }
      ]
    },
    {
      "cell_type": "code",
      "source": [
        "Fruta = frutas + (\"Mango\",\"Pera\")\n",
        "print(Fruta.count(\"Mango\"))\n",
        "print(Fruta.index(\"Pera\"))"
      ],
      "metadata": {
        "colab": {
          "base_uri": "https://localhost:8080/"
        },
        "id": "yH4WcggMXbyf",
        "outputId": "0f05658d-0cca-4929-9ed9-8f5da1924a82"
      },
      "execution_count": 91,
      "outputs": [
        {
          "output_type": "stream",
          "name": "stdout",
          "text": [
            "1\n",
            "5\n"
          ]
        }
      ]
    },
    {
      "cell_type": "code",
      "source": [
        "#Diccionario\n",
        "\n",
        "numeros = {7,4,9,3,5}\n",
        "colores = {\"Azul\",\"Amarillo\",\"Rojo\",\"Verde\",\"Blanco\"}\n",
        "\n",
        "print(numeros)\n",
        "print(colores)"
      ],
      "metadata": {
        "colab": {
          "base_uri": "https://localhost:8080/"
        },
        "id": "E0aiIw5sYhNf",
        "outputId": "71b650ac-daeb-4c98-b382-62e3a6e805ba"
      },
      "execution_count": 93,
      "outputs": [
        {
          "output_type": "stream",
          "name": "stdout",
          "text": [
            "{3, 4, 5, 7, 9}\n",
            "{'Blanco', 'Amarillo', 'Rojo', 'Verde', 'Azul'}\n"
          ]
        }
      ]
    },
    {
      "cell_type": "code",
      "source": [
        "Mezclado = {2,\"Lampara\",True, 2.1,(2,1,9)}\n",
        "print(Mezclado)"
      ],
      "metadata": {
        "colab": {
          "base_uri": "https://localhost:8080/"
        },
        "id": "bEqtsG-LbFW3",
        "outputId": "f6ad7876-2feb-486c-c304-c59d11835855"
      },
      "execution_count": 95,
      "outputs": [
        {
          "output_type": "stream",
          "name": "stdout",
          "text": [
            "{True, 2, 2.1, (2, 1, 9), 'Lampara'}\n"
          ]
        }
      ]
    },
    {
      "cell_type": "code",
      "source": [
        "num = {1,1,2,3,4,5}\n",
        "print(num)"
      ],
      "metadata": {
        "colab": {
          "base_uri": "https://localhost:8080/"
        },
        "id": "lszP9GmrcWK_",
        "outputId": "f987df20-e4ed-4dba-cf3c-d32973c552d2"
      },
      "execution_count": 96,
      "outputs": [
        {
          "output_type": "stream",
          "name": "stdout",
          "text": [
            "{1, 2, 3, 4, 5}\n"
          ]
        }
      ]
    },
    {
      "cell_type": "code",
      "source": [
        "primos = set([9,3,5,7,1])\n",
        "print(set)"
      ],
      "metadata": {
        "colab": {
          "base_uri": "https://localhost:8080/"
        },
        "id": "um_4CsftcpUG",
        "outputId": "2d201ca5-988e-40c1-84a0-1e0ef6df12b2"
      },
      "execution_count": 99,
      "outputs": [
        {
          "output_type": "stream",
          "name": "stdout",
          "text": [
            "<class 'set'>\n"
          ]
        }
      ]
    },
    {
      "cell_type": "code",
      "source": [
        "Numbers = {(2,3),(4,1),(6,8)}\n",
        "print(Numbers)"
      ],
      "metadata": {
        "colab": {
          "base_uri": "https://localhost:8080/"
        },
        "id": "UHhdM4m5dfCP",
        "outputId": "726b2116-1e78-4b4e-ac86-b5c70f89a0ce"
      },
      "execution_count": 101,
      "outputs": [
        {
          "output_type": "stream",
          "name": "stdout",
          "text": [
            "{(4, 1), (2, 3), (6, 8)}\n"
          ]
        }
      ]
    },
    {
      "cell_type": "code",
      "source": [
        "Carros = {\"Company\":\"Lamborghini\",\n",
        "          \"Country\":\"Italy\",\n",
        "          \"Rank\": 1 }\n",
        "\n",
        "print(Carros)\n",
        "print(Carros[\"Company\"])\n",
        "print(Carros[\"Country\"])\n",
        "Carros[\"name\"] = \"Aventador SVJ\"\n",
        "\n",
        "print(Carros)\n"
      ],
      "metadata": {
        "colab": {
          "base_uri": "https://localhost:8080/"
        },
        "id": "9chVVOF0d8wC",
        "outputId": "6e253682-39d2-4554-a13a-d2b648790189"
      },
      "execution_count": 109,
      "outputs": [
        {
          "output_type": "stream",
          "name": "stdout",
          "text": [
            "{'Company': 'Lamborghini', 'Country': 'Italy', 'Rank': 1}\n",
            "Lamborghini\n",
            "Italy\n",
            "{'Company': 'Lamborghini', 'Country': 'Italy', 'Rank': 1, 'name': 'Aventador SVJ'}\n"
          ]
        }
      ]
    },
    {
      "cell_type": "code",
      "source": [
        "min = {'a':97, 'b':98, 'c':99}\n",
        "may = {'A':65, 'B':66, 'C':67}\n",
        "\n",
        "Mezcla1 = min.copy()\n",
        "Mezcla1.update (may)\n",
        "print(Mezcla1)"
      ],
      "metadata": {
        "colab": {
          "base_uri": "https://localhost:8080/"
        },
        "id": "BD_9YECDgA0Q",
        "outputId": "bde6d260-967c-43a9-abcf-fb0ab74304c2"
      },
      "execution_count": 111,
      "outputs": [
        {
          "output_type": "stream",
          "name": "stdout",
          "text": [
            "{'a': 97, 'b': 98, 'c': 99, 'A': 65, 'B': 66, 'C': 67}\n"
          ]
        }
      ]
    },
    {
      "cell_type": "code",
      "source": [
        "Numeros1 = [1,2,3,4,5,6,7,8,9,10,11,12,13,14,15,16,17]\n",
        "pares = set()\n",
        "\n",
        "for numero in Numeros1:\n",
        "  if numero % 2==0:\n",
        "    pares.add(numero)\n",
        "\n",
        "print(pares)"
      ],
      "metadata": {
        "colab": {
          "base_uri": "https://localhost:8080/"
        },
        "id": "jLJoUMusg6xQ",
        "outputId": "bd8fbb04-7fec-4c93-abf3-cada16f62814"
      },
      "execution_count": 113,
      "outputs": [
        {
          "output_type": "stream",
          "name": "stdout",
          "text": [
            "{2, 4, 6, 8, 10, 12, 14, 16}\n"
          ]
        }
      ]
    },
    {
      "cell_type": "code",
      "source": [
        "S = [x**2 for x in range(10)]\n",
        "print(S)"
      ],
      "metadata": {
        "colab": {
          "base_uri": "https://localhost:8080/"
        },
        "id": "kc-IcjBnihah",
        "outputId": "969fb37a-fcc9-40cc-c770-0669c22e4c43"
      },
      "execution_count": 115,
      "outputs": [
        {
          "output_type": "stream",
          "name": "stdout",
          "text": [
            "[0, 1, 4, 9, 16, 25, 36, 49, 64, 81]\n"
          ]
        }
      ]
    },
    {
      "cell_type": "code",
      "source": [
        "J = [x for x in S if x%3==0]\n",
        "print(J)"
      ],
      "metadata": {
        "colab": {
          "base_uri": "https://localhost:8080/"
        },
        "id": "BQeadI0mjYqn",
        "outputId": "1d3df774-d1e0-4798-911b-460541fc590d"
      },
      "execution_count": 116,
      "outputs": [
        {
          "output_type": "stream",
          "name": "stdout",
          "text": [
            "[0, 9, 36, 81]\n"
          ]
        }
      ]
    },
    {
      "cell_type": "code",
      "source": [
        "def to_str_fill(i):\n",
        "  t = str(i).zfill(8)\n",
        "  return t\n",
        "\n",
        "S2 = [to_str_fill(x) for x in J]\n",
        "\n",
        "[print (x) for x in S2]"
      ],
      "metadata": {
        "colab": {
          "base_uri": "https://localhost:8080/"
        },
        "id": "P3JNL707jsow",
        "outputId": "1b9a9305-e1a1-4496-c63d-f924f2bd63c3"
      },
      "execution_count": 123,
      "outputs": [
        {
          "output_type": "stream",
          "name": "stdout",
          "text": [
            "00000000\n",
            "00000009\n",
            "00000036\n",
            "00000081\n"
          ]
        },
        {
          "output_type": "execute_result",
          "data": {
            "text/plain": [
              "[None, None, None, None]"
            ]
          },
          "metadata": {},
          "execution_count": 123
        }
      ]
    }
  ]
}