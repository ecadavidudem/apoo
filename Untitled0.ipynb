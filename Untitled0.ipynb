{
  "nbformat": 4,
  "nbformat_minor": 0,
  "metadata": {
    "colab": {
      "name": "Untitled0.ipynb",
      "provenance": [],
      "collapsed_sections": [],
      "authorship_tag": "ABX9TyMo0r3Gf7VHK+aKscIq5zvo",
      "include_colab_link": true
    },
    "kernelspec": {
      "name": "python3",
      "display_name": "Python 3"
    },
    "language_info": {
      "name": "python"
    }
  },
  "cells": [
    {
      "cell_type": "markdown",
      "metadata": {
        "id": "view-in-github",
        "colab_type": "text"
      },
      "source": [
        "<a href=\"https://colab.research.google.com/github/ecadavidudem/apoo/blob/SebasGH/Untitled0.ipynb\" target=\"_parent\"><img src=\"https://colab.research.google.com/assets/colab-badge.svg\" alt=\"Open In Colab\"/></a>"
      ]
    },
    {
      "cell_type": "code",
      "execution_count": 87,
      "metadata": {
        "colab": {
          "base_uri": "https://localhost:8080/"
        },
        "id": "3qLuzyq7OF6m",
        "outputId": "56256afe-3b96-47e1-e3b2-36d1cdc55b86"
      },
      "outputs": [
        {
          "output_type": "stream",
          "name": "stdout",
          "text": [
            "['Polymerjs', 'Angularjs', 'Vuejs']\n",
            "['Java', 'C++', 'Visual-Basic']\n"
          ]
        }
      ],
      "source": [
        "#LISTAS#\n",
        "\n",
        "fe =[\"Polymerjs\",\"Angularjs\",\"Vuejs\"]\n",
        "be =[\"Java\",\"C++\",\"Visual-Basic\"]\n",
        "print(fe)\n",
        "print(be)\n",
        "\n"
      ]
    },
    {
      "cell_type": "code",
      "source": [
        "print(fe[1])\n",
        "print(be[0])"
      ],
      "metadata": {
        "colab": {
          "base_uri": "https://localhost:8080/"
        },
        "id": "iggSzGHwPX1C",
        "outputId": "308cb261-ba8a-48f8-a970-d131e49111c7"
      },
      "execution_count": 88,
      "outputs": [
        {
          "output_type": "stream",
          "name": "stdout",
          "text": [
            "Angularjs\n",
            "Java\n"
          ]
        }
      ]
    },
    {
      "cell_type": "code",
      "source": [
        "print(fe[0:2])"
      ],
      "metadata": {
        "colab": {
          "base_uri": "https://localhost:8080/"
        },
        "id": "WLhGGpcWPpMI",
        "outputId": "d1534876-b33e-4d14-cf2b-73b0447e6c86"
      },
      "execution_count": 89,
      "outputs": [
        {
          "output_type": "stream",
          "name": "stdout",
          "text": [
            "['Polymerjs', 'Angularjs']\n"
          ]
        }
      ]
    },
    {
      "cell_type": "code",
      "source": [
        "fe[2]=\"Query\"\n",
        "print(fe)"
      ],
      "metadata": {
        "colab": {
          "base_uri": "https://localhost:8080/"
        },
        "id": "AtWUyzu9Qtha",
        "outputId": "09019f87-2325-4e5c-96df-9899c5840165"
      },
      "execution_count": 90,
      "outputs": [
        {
          "output_type": "stream",
          "name": "stdout",
          "text": [
            "['Polymerjs', 'Angularjs', 'Query']\n"
          ]
        }
      ]
    },
    {
      "cell_type": "code",
      "source": [
        "del be [1]\n",
        "print(be)"
      ],
      "metadata": {
        "colab": {
          "base_uri": "https://localhost:8080/"
        },
        "id": "xoAE0UxcRDlg",
        "outputId": "fe416657-73df-4eac-c1b7-c790aafaff8b"
      },
      "execution_count": 91,
      "outputs": [
        {
          "output_type": "stream",
          "name": "stdout",
          "text": [
            "['Java', 'Visual-Basic']\n"
          ]
        }
      ]
    },
    {
      "cell_type": "code",
      "source": [
        "be.append(\"python\")\n",
        "print(be)"
      ],
      "metadata": {
        "colab": {
          "base_uri": "https://localhost:8080/"
        },
        "id": "kEXsAzE7RNR5",
        "outputId": "8fee275b-ba42-4099-eb21-a411559edda2"
      },
      "execution_count": 92,
      "outputs": [
        {
          "output_type": "stream",
          "name": "stdout",
          "text": [
            "['Java', 'Visual-Basic', 'python']\n"
          ]
        }
      ]
    },
    {
      "cell_type": "code",
      "source": [
        "fe.insert(1,\"nubleJs\")\n",
        "print(fe)"
      ],
      "metadata": {
        "colab": {
          "base_uri": "https://localhost:8080/"
        },
        "id": "fj7sZ6GmRUFw",
        "outputId": "3ea3a5c3-a354-4396-d165-6b8438b9304c"
      },
      "execution_count": 93,
      "outputs": [
        {
          "output_type": "stream",
          "name": "stdout",
          "text": [
            "['Polymerjs', 'nubleJs', 'Angularjs', 'Query']\n"
          ]
        }
      ]
    },
    {
      "cell_type": "code",
      "source": [
        "fe.reverse()\n",
        "print(fe)"
      ],
      "metadata": {
        "colab": {
          "base_uri": "https://localhost:8080/"
        },
        "id": "eONFGiaNR09h",
        "outputId": "3110da3b-de58-4e8a-de55-2c31c5e0fc38"
      },
      "execution_count": 94,
      "outputs": [
        {
          "output_type": "stream",
          "name": "stdout",
          "text": [
            "['Query', 'Angularjs', 'nubleJs', 'Polymerjs']\n"
          ]
        }
      ]
    },
    {
      "cell_type": "code",
      "source": [
        "fe.sort()\n",
        "print(fe)"
      ],
      "metadata": {
        "colab": {
          "base_uri": "https://localhost:8080/"
        },
        "id": "y3DsnashR-qw",
        "outputId": "9ec4cc63-20fb-40f3-9a3d-9e7576d3c745"
      },
      "execution_count": 95,
      "outputs": [
        {
          "output_type": "stream",
          "name": "stdout",
          "text": [
            "['Angularjs', 'Polymerjs', 'Query', 'nubleJs']\n"
          ]
        }
      ]
    },
    {
      "cell_type": "code",
      "source": [
        "be.clear()\n",
        "print(be)"
      ],
      "metadata": {
        "colab": {
          "base_uri": "https://localhost:8080/"
        },
        "id": "rVUSrjkdSJXv",
        "outputId": "0eac4d53-6ad7-4c5c-ecc5-ec81bcb03278"
      },
      "execution_count": 96,
      "outputs": [
        {
          "output_type": "stream",
          "name": "stdout",
          "text": [
            "[]\n"
          ]
        }
      ]
    },
    {
      "cell_type": "code",
      "source": [
        "#TUPLAS#\n",
        "\n",
        "frutas=(\"mango\",\"pera\",\"piña\",\"sandia\")\n",
        "tupla1=1,2,3,\"hola\"\n",
        "tupla2=(\"adios\",[\"3\",\"4\",\"5\"],(7,8,9))\n",
        "tupla3=('s','e','b','a','s','t','i','a','n','g')\n",
        "print(frutas[3])\n",
        "print(tupla1[0])\n",
        "print(tupla2[1])\n",
        "print(tupla3[4])"
      ],
      "metadata": {
        "id": "UFFD0NPgScWL"
      },
      "execution_count": null,
      "outputs": []
    },
    {
      "cell_type": "code",
      "source": [
        "print(tupla2[1][1])\n",
        "print(tupla2[2][0])\n",
        "\n",
        "print(tupla3[-10])\n",
        "print(tupla3[-1])"
      ],
      "metadata": {
        "colab": {
          "base_uri": "https://localhost:8080/"
        },
        "id": "GvHR0dH7Us1J",
        "outputId": "227b334f-03d4-4454-8116-7c7d83e8bd99"
      },
      "execution_count": 98,
      "outputs": [
        {
          "output_type": "stream",
          "name": "stdout",
          "text": [
            "4\n",
            "7\n",
            "s\n",
            "g\n"
          ]
        }
      ]
    },
    {
      "cell_type": "code",
      "source": [
        "print(tupla3[1:6])\n",
        "print(tupla3[-7])\n",
        "print(tupla3[:])"
      ],
      "metadata": {
        "colab": {
          "base_uri": "https://localhost:8080/"
        },
        "id": "X5s8hcwtVnsB",
        "outputId": "7e9b8d73-9a2d-4979-dbfd-70fdd4227586"
      },
      "execution_count": 99,
      "outputs": [
        {
          "output_type": "stream",
          "name": "stdout",
          "text": [
            "('e', 'b', 'a', 's', 't')\n",
            "a\n",
            "('s', 'e', 'b', 'a', 's', 't', 'i', 'a', 'n', 'g')\n"
          ]
        }
      ]
    },
    {
      "cell_type": "code",
      "source": [
        "tupla2[1][0]=\"A\"\n",
        "tupla2[1][1]=\"B\"\n",
        "tupla2[1][2]=\"C\"\n",
        "print(tupla2)"
      ],
      "metadata": {
        "colab": {
          "base_uri": "https://localhost:8080/"
        },
        "id": "hl0fn0roWGxZ",
        "outputId": "fed575ff-0165-4bf8-c958-5e60f5b42e07"
      },
      "execution_count": 100,
      "outputs": [
        {
          "output_type": "stream",
          "name": "stdout",
          "text": [
            "('adios', ['A', 'B', 'C'], (7, 8, 9))\n"
          ]
        }
      ]
    },
    {
      "cell_type": "code",
      "source": [
        "tupla4=tupla2+frutas\n",
        "print(tupla4)"
      ],
      "metadata": {
        "colab": {
          "base_uri": "https://localhost:8080/"
        },
        "id": "YdZPF3joWdF5",
        "outputId": "2cab7f48-a84e-4418-8293-8a764efabd5c"
      },
      "execution_count": 101,
      "outputs": [
        {
          "output_type": "stream",
          "name": "stdout",
          "text": [
            "('adios', ['A', 'B', 'C'], (7, 8, 9), 'mango', 'pera', 'piña', 'sandia')\n"
          ]
        }
      ]
    },
    {
      "cell_type": "code",
      "source": [
        "del tupla3\n",
        "print(tupla3)"
      ],
      "metadata": {
        "colab": {
          "base_uri": "https://localhost:8080/",
          "height": 182
        },
        "id": "Rv72FEBrWkvo",
        "outputId": "ac484d04-1784-4bdf-e23e-f45b7e3d25b0"
      },
      "execution_count": 109,
      "outputs": [
        {
          "output_type": "error",
          "ename": "NameError",
          "evalue": "ignored",
          "traceback": [
            "\u001b[0;31m---------------------------------------------------------------------------\u001b[0m",
            "\u001b[0;31mNameError\u001b[0m                                 Traceback (most recent call last)",
            "\u001b[0;32m<ipython-input-109-9c0700abc284>\u001b[0m in \u001b[0;36m<module>\u001b[0;34m\u001b[0m\n\u001b[0;32m----> 1\u001b[0;31m \u001b[0;32mdel\u001b[0m \u001b[0mtupla3\u001b[0m \u001b[0;34m[\u001b[0m\u001b[0;36m1\u001b[0m\u001b[0;34m]\u001b[0m\u001b[0;34m\u001b[0m\u001b[0;34m\u001b[0m\u001b[0m\n\u001b[0m\u001b[1;32m      2\u001b[0m \u001b[0mprint\u001b[0m\u001b[0;34m(\u001b[0m\u001b[0mtupla3\u001b[0m\u001b[0;34m)\u001b[0m\u001b[0;34m\u001b[0m\u001b[0;34m\u001b[0m\u001b[0m\n",
            "\u001b[0;31mNameError\u001b[0m: name 'tupla3' is not defined"
          ]
        }
      ]
    },
    {
      "cell_type": "code",
      "source": [
        "fruta=frutas+(\"manzana\",\"kiwi\",\"melocoton\")\n",
        "print(fruta.count(\"manzana\"))\n",
        "print(fruta.index(\"kiwi\"))"
      ],
      "metadata": {
        "colab": {
          "base_uri": "https://localhost:8080/"
        },
        "id": "zekKIhBbXDz6",
        "outputId": "7172ad01-2921-4d1e-c8e4-482520cfdf9a"
      },
      "execution_count": 77,
      "outputs": [
        {
          "output_type": "stream",
          "name": "stdout",
          "text": [
            "1\n",
            "5\n"
          ]
        }
      ]
    },
    {
      "cell_type": "code",
      "source": [
        "#SETTS#\n",
        "\n",
        "numeros={1,2,3,4,5}\n",
        "colores={\"amarillo\",\"azul\",\"rojo\",\"verde\",\"morado\"}\n",
        "print(numeros)\n",
        "print(colores)\n"
      ],
      "metadata": {
        "colab": {
          "base_uri": "https://localhost:8080/"
        },
        "id": "atMnBgqxYkO_",
        "outputId": "7b34bf55-cd0f-4c8e-b3e7-8e28449dcee9"
      },
      "execution_count": 110,
      "outputs": [
        {
          "output_type": "stream",
          "name": "stdout",
          "text": [
            "{1, 2, 3, 4, 5}\n",
            "{'rojo', 'azul', 'amarillo', 'verde', 'morado'}\n"
          ]
        }
      ]
    },
    {
      "cell_type": "code",
      "source": [
        "mezclado={6,\"sech\",True,1.2,(7,8,9)}\n",
        "print(mezclado)"
      ],
      "metadata": {
        "colab": {
          "base_uri": "https://localhost:8080/"
        },
        "id": "Xl0IOtRXbJlR",
        "outputId": "c5143066-2767-47cb-b6a7-daf0125ce001"
      },
      "execution_count": 113,
      "outputs": [
        {
          "output_type": "stream",
          "name": "stdout",
          "text": [
            "{True, 1.2, 6, (7, 8, 9), 'sech'}\n"
          ]
        }
      ]
    }
  ]
}